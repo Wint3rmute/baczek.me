{
 "cells": [
  {
   "cell_type": "code",
   "execution_count": 1,
   "id": "c79053c0-279d-4d0d-8257-db5bc6f9881a",
   "metadata": {
    "tags": []
   },
   "outputs": [
    {
     "name": "stderr",
     "output_type": "stream",
     "text": [
      "/home/wint3rmute/code/web/baczek.me/.venv/lib/python3.11/site-packages/umap/distances.py:1063: NumbaDeprecationWarning: The 'nopython' keyword argument was not supplied to the 'numba.jit' decorator. The implicit default value for this argument is currently False, but it will be changed to True in Numba 0.59.0. See https://numba.readthedocs.io/en/stable/reference/deprecation.html#deprecation-of-object-mode-fall-back-behaviour-when-using-jit for details.\n",
      "  @numba.jit()\n",
      "/home/wint3rmute/code/web/baczek.me/.venv/lib/python3.11/site-packages/umap/distances.py:1071: NumbaDeprecationWarning: The 'nopython' keyword argument was not supplied to the 'numba.jit' decorator. The implicit default value for this argument is currently False, but it will be changed to True in Numba 0.59.0. See https://numba.readthedocs.io/en/stable/reference/deprecation.html#deprecation-of-object-mode-fall-back-behaviour-when-using-jit for details.\n",
      "  @numba.jit()\n",
      "/home/wint3rmute/code/web/baczek.me/.venv/lib/python3.11/site-packages/umap/distances.py:1086: NumbaDeprecationWarning: The 'nopython' keyword argument was not supplied to the 'numba.jit' decorator. The implicit default value for this argument is currently False, but it will be changed to True in Numba 0.59.0. See https://numba.readthedocs.io/en/stable/reference/deprecation.html#deprecation-of-object-mode-fall-back-behaviour-when-using-jit for details.\n",
      "  @numba.jit()\n",
      "/home/wint3rmute/code/web/baczek.me/.venv/lib/python3.11/site-packages/umap/umap_.py:660: NumbaDeprecationWarning: The 'nopython' keyword argument was not supplied to the 'numba.jit' decorator. The implicit default value for this argument is currently False, but it will be changed to True in Numba 0.59.0. See https://numba.readthedocs.io/en/stable/reference/deprecation.html#deprecation-of-object-mode-fall-back-behaviour-when-using-jit for details.\n",
      "  @numba.jit()\n"
     ]
    }
   ],
   "source": [
    "from related_generator.post import Post, get_all_posts\n",
    "import nltk\n",
    "import umap\n",
    "from nltk.stem.snowball import SnowballStemmer\n",
    "from nltk.tokenize import word_tokenize\n",
    "from sklearn.feature_extraction.text import TfidfVectorizer\n",
    "from sklearn.manifold import TSNE\n",
    "from sklearn.metrics.pairwise import cosine_similarity\n",
    "from pathlib import Path\n",
    "import graphviz\n",
    "import json\n",
    "\n",
    "from bs4 import BeautifulSoup\n"
   ]
  },
  {
   "cell_type": "code",
   "execution_count": 2,
   "id": "f02f5496-f6d1-4667-9f36-0032ac897679",
   "metadata": {
    "tags": []
   },
   "outputs": [
    {
     "name": "stderr",
     "output_type": "stream",
     "text": [
      "/home/wint3rmute/code/web/baczek.me/related_generator/post.py:46: UserWarning: No tags defined for content/2023-05-02-11-01-19.md\n",
      "  warnings.warn(f\"No tags defined for {file_path}\")\n",
      "/home/wint3rmute/code/web/baczek.me/related_generator/post.py:46: UserWarning: No tags defined for content/should_listen.md\n",
      "  warnings.warn(f\"No tags defined for {file_path}\")\n"
     ]
    }
   ],
   "source": [
    "all_posts = get_all_posts()"
   ]
  },
  {
   "cell_type": "code",
   "execution_count": 3,
   "id": "f79e8e9a-45e4-4e33-8941-098e92835f2c",
   "metadata": {
    "tags": []
   },
   "outputs": [],
   "source": [
    "def tokenizer(text: str) -> list[str]:\n",
    "    stemmer = SnowballStemmer(\"english\")\n",
    "    words = word_tokenize(text)\n",
    "\n",
    "    return [stemmer.stem(word) for word in words]"
   ]
  },
  {
   "cell_type": "code",
   "execution_count": 4,
   "id": "72663562-42ea-4ef0-b590-dcc311606d49",
   "metadata": {},
   "outputs": [],
   "source": [
    "# for post in all_posts:\n",
    "#     html_path = (Path(\"./public\") / post.path.stem) / \"index.html\"\n",
    "#     html_path = str(html_path).replace(\"_\", \"-\")\n",
    "#     html_content = open(html_path).read()\n",
    "    \n",
    "#     html_tree = BeautifulSoup(html_content, features=\"html.parser\")\n",
    "#     content = html_tree.article.text.replace(\"\\n\", \" \")\n",
    "#     post._old_content = post.content\n",
    "#     post.content = content\n"
   ]
  },
  {
   "cell_type": "code",
   "execution_count": 5,
   "id": "f5f0a7e5-4d1d-4612-b5d3-8bcd13e3aead",
   "metadata": {},
   "outputs": [
    {
     "data": {
      "text/plain": [
       "'\\ntitle: Decentralisation\\ntags: programming\\n\\nMaking the internet interesting again\\n{{image (src=\"/computer_poster.jpg\" small=true title=\"\")}}\\n\\nCheck out my bookmarks!\\nFLOSS software\\nMy recommendations on open source software.\\nDecentralised/self-hosted online services\\nI\\'m running self-hosted online services. They are public, you can use them too :)\\n\\n\\nInvidious, an alternate YouTube frontend\\n\\n\\nSearX, a meta-search engine\\n\\n\\nLibrex, another meta-search engine\\n\\n\\nLibreddit, alternative Reddit frontend\\n\\n\\nI also recommend the following services for private use:\\n\\n\\nNextCloud\\n\\n\\nMatrix \\n\\n\\n\\nnew idea, work in progress - registry-based search engine manifesto\\n\\nNotes on self-hosting\\n\\nMonitor the metrics of every service you\\'ve hosting (Prometheus)\\nVisualise your metrics (Grafana)\\nPing everything from time to time (Blackbox exporter)\\nSetup notifications when a service goes down\\nAutomate everything from the start, you won\\'t regret it\\nAs your infrastructure (and knowledge) grows, you will eventually need infrastructure as code\\n'"
      ]
     },
     "execution_count": 5,
     "metadata": {},
     "output_type": "execute_result"
    }
   ],
   "source": [
    "all_posts[1].content"
   ]
  },
  {
   "cell_type": "code",
   "execution_count": 9,
   "id": "46a52500-eff7-4f9a-858b-0dd8abcdf3b9",
   "metadata": {
    "tags": []
   },
   "outputs": [
    {
     "name": "stderr",
     "output_type": "stream",
     "text": [
      "/home/wint3rmute/code/web/baczek.me/.venv/lib/python3.11/site-packages/sklearn/feature_extraction/text.py:528: UserWarning: The parameter 'token_pattern' will not be used since 'tokenizer' is not None'\n",
      "  warnings.warn(\n"
     ]
    }
   ],
   "source": [
    "\n",
    "# Vectorizer to convert a collection of raw documents to a matrix of TF-IDF features\n",
    "vectorizer = TfidfVectorizer(tokenizer=tokenizer)\n",
    "# vectorizer = TfidfVectorizer()\n",
    "\n",
    "# Learn vocabulary and idf, return term-document matrix.\n",
    "tfidf = vectorizer.fit_transform([post.content for post in all_posts])\n",
    "\n",
    "# Array mapping from feature integer indices to feature name\n",
    "words = vectorizer.get_feature_names_out()\n",
    "\n",
    "from sentence_transformers import SentenceTransformer\n",
    "model = SentenceTransformer('all-MiniLM-L6-v2')\n",
    "embeddings = model.encode([post.content for post in all_posts])\n",
    "\n",
    "\n",
    "# umap_result = umap.UMAP().fit_transform(tfidf)\n",
    "umap_result = umap.UMAP().fit_transform(embeddings)\n",
    "\n",
    "# for post, umap_result in zip(all_posts, umap_result):\n",
    "#     post.x, post.y = umap_result\n",
    "    \n",
    "#     plt.scatter(post.x, post.y)\n",
    "\n"
   ]
  },
  {
   "cell_type": "code",
   "execution_count": 11,
   "id": "e531c2ca-d985-4c3a-8390-afa68f9f1df9",
   "metadata": {
    "tags": []
   },
   "outputs": [
    {
     "ename": "TypeError",
     "evalue": "cannot unpack non-iterable numpy.float32 object",
     "output_type": "error",
     "traceback": [
      "\u001b[0;31m---------------------------------------------------------------------------\u001b[0m",
      "\u001b[0;31mTypeError\u001b[0m                                 Traceback (most recent call last)",
      "Cell \u001b[0;32mIn[11], line 4\u001b[0m\n\u001b[1;32m      1\u001b[0m \u001b[38;5;28;01mimport\u001b[39;00m \u001b[38;5;21;01mmatplotlib\u001b[39;00m\u001b[38;5;21;01m.\u001b[39;00m\u001b[38;5;21;01mpyplot\u001b[39;00m \u001b[38;5;28;01mas\u001b[39;00m \u001b[38;5;21;01mplt\u001b[39;00m\n\u001b[1;32m      3\u001b[0m \u001b[38;5;28;01mfor\u001b[39;00m post, umap_result \u001b[38;5;129;01min\u001b[39;00m \u001b[38;5;28mzip\u001b[39m(all_posts, umap_result):\n\u001b[0;32m----> 4\u001b[0m     post\u001b[38;5;241m.\u001b[39mx, post\u001b[38;5;241m.\u001b[39my \u001b[38;5;241m=\u001b[39m umap_result\n\u001b[1;32m      6\u001b[0m     plt\u001b[38;5;241m.\u001b[39mscatter(post\u001b[38;5;241m.\u001b[39mx, post\u001b[38;5;241m.\u001b[39my, text\u001b[38;5;241m=\u001b[39mpost\u001b[38;5;241m.\u001b[39mtitle)\n",
      "\u001b[0;31mTypeError\u001b[0m: cannot unpack non-iterable numpy.float32 object"
     ]
    }
   ],
   "source": [
    "import matplotlib.pyplot as plt\n",
    "\n",
    "for post, umap_result in zip(all_posts, umap_result):\n",
    "    post.x, post.y = umap_result\n",
    "    \n",
    "    plt.scatter(post.x, post.y, text=post.title)\n"
   ]
  },
  {
   "cell_type": "code",
   "execution_count": null,
   "id": "104e6e7c-73b4-4852-8975-6717f9a3a841",
   "metadata": {},
   "outputs": [],
   "source": []
  }
 ],
 "metadata": {
  "kernelspec": {
   "display_name": "Python 3 (ipykernel)",
   "language": "python",
   "name": "python3"
  },
  "language_info": {
   "codemirror_mode": {
    "name": "ipython",
    "version": 3
   },
   "file_extension": ".py",
   "mimetype": "text/x-python",
   "name": "python",
   "nbconvert_exporter": "python",
   "pygments_lexer": "ipython3",
   "version": "3.11.3"
  }
 },
 "nbformat": 4,
 "nbformat_minor": 5
}
