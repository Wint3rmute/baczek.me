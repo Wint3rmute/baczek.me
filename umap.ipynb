{
 "cells": [
  {
   "cell_type": "code",
   "execution_count": 1,
   "id": "03bbd939-b351-4ad5-a787-62fdd9431e61",
   "metadata": {},
   "outputs": [
    {
     "name": "stderr",
     "output_type": "stream",
     "text": [
      "[nltk_data] Downloading package punkt to /home/wint3rmute/nltk_data...\n",
      "[nltk_data]   Package punkt is already up-to-date!\n"
     ]
    }
   ],
   "source": [
    "from related_generator.post import Post\n",
    "import matplotlib.pyplot as plt\n",
    "from sklearn.feature_extraction.text import TfidfVectorizer\n",
    "from sklearn.manifold import TSNE\n",
    "from sklearn.metrics.pairwise import cosine_similarity\n",
    "import umap\n",
    "from pathlib import Path\n",
    "from tqdm.notebook import trange, tqdm\n",
    "from nltk.stem.snowball import SnowballStemmer\n",
    "from nltk.tokenize import word_tokenize\n",
    "import nltk\n",
    "import numpy as np\n",
    "from multiprocessing import Pool\n",
    "# from concurrent.futures import ThreadPoolExecutor\n",
    "import time\n",
    "\n",
    "nltk.download(\"punkt\")\n",
    "%matplotlib widget"
   ]
  },
  {
   "cell_type": "code",
   "execution_count": 2,
   "id": "ba5f2b7e-9230-4da4-938d-e109fdc8a8cb",
   "metadata": {},
   "outputs": [
    {
     "data": {
      "application/vnd.jupyter.widget-view+json": {
       "model_id": "726ee0145d8c4a309d6977469ac9efab",
       "version_major": 2,
       "version_minor": 0
      },
      "text/plain": [
       "  0%|          | 0/471 [00:00<?, ?it/s]"
      ]
     },
     "metadata": {},
     "output_type": "display_data"
    }
   ],
   "source": [
    "import math\n",
    "import markdown\n",
    "import subprocess\n",
    "from dataclasses import dataclass, field\n",
    "from pathlib import Path\n",
    "\n",
    "from bs4 import BeautifulSoup\n",
    "from typing import Optional\n",
    "\n",
    "\n",
    "@dataclass\n",
    "class Post:\n",
    "    title: str\n",
    "    content: str\n",
    "    path: Path\n",
    "\n",
    "    related_links: list[str]\n",
    "    \n",
    "    tf_idf_position: list[float]\n",
    "    lsa_position: list[float]\n",
    "    \n",
    "    # To be filled by map generation\n",
    "    x: float = 0.0\n",
    "    y: float = 0.0\n",
    "\n",
    "    @classmethod\n",
    "    def from_path(cls, path: Path):\n",
    "        content_raw = path.read_text()\n",
    "        html_tree = BeautifulSoup(content_raw, features=\"html.parser\")\n",
    "        \n",
    "        # Get links from <nav>\n",
    "        content_raw = path.read_text()\n",
    "        html_tree = BeautifulSoup(content_raw, features=\"html.parser\")\n",
    "        nav_links = [l.attrs[\"href\"] for l in html_tree.nav.find_all(\"a\")]\n",
    "        \n",
    "        # Important: nav + footer MUST BE removed for later processing stages\n",
    "        html_tree.nav.decompose()\n",
    "        html_tree.footer.decompose()\n",
    "        \n",
    "        # Get 'Incoming' links\n",
    "        incoming_links = cls.find_incoming_links(path, html_tree) or []\n",
    "        \n",
    "        content = html_tree.text.replace(\"\\n\", \"\")\n",
    "        title = path.name\n",
    "\n",
    "        to_trim = content.rfind(\"Incoming:\")\n",
    "        if to_trim != -1:\n",
    "            content = content[to_trim:]\n",
    "       \n",
    "        related_links = list(set(nav_links) | set(incoming_links))\n",
    "        return cls(title=title, content=content, path=path, related_links=related_links, tf_idf_position=None, lsa_position=None)\n",
    "    \n",
    "    @staticmethod\n",
    "    def find_incoming_links(path, html_tree) -> Optional[list]:\n",
    "        all_links = html_tree.find_all(\"a\")[::-1]\n",
    "        incoming_links = []\n",
    "        for link in all_links:\n",
    "            try:\n",
    "                incoming_links.append(link.attrs[\"href\"])\n",
    "            except Exception as e:\n",
    "                if link.text != \"link\" and link.text != \"external link\" and link.text != \"local link\":\n",
    "                    raise ValueError(link)\n",
    "                    raise e\n",
    "            \n",
    "            if \"class\" in link.attrs:\n",
    "                return incoming_links\n",
    "\n",
    "        # Executed if the links structure is atypical\n",
    "        return None\n",
    "    \n",
    "\n",
    "    def distance_to(self, post: \"Post\") -> float:\n",
    "        return math.sqrt((self.x - post.x) ** 2 + (self.y - post.y) ** 2)\n",
    "\n",
    "    def distance_tf_idf(self, post: \"Post\") -> float:\n",
    "        return np.linalg.norm(self.tf_idf_position - post.tf_idf_position)\n",
    "    \n",
    "    def distance_tf_idf_cosine(self, post: \"Post\") -> float:\n",
    "        return cosine_similarity(self.tf_idf_position, post.tf_idf_position)\n",
    "    \n",
    "    def distance_lsa(self, post: \"Post\") -> float:\n",
    "        return np.linalg.norm(self.lsa_position - post.lsa_position)\n",
    "    \n",
    "    def distance_lsa_cosine(self, post: \"Post\") -> float:\n",
    "        return cosine_similarity(self.lsa_position.reshape(1, -1), post.lsa_position.reshape(1, -1))\n",
    "\n",
    "def get_all_posts_oscean() -> list[Post]:\n",
    "    all_posts_paths = Path.glob(Path(\"/home/wint3rmute/code/misc/oscean/site/\"), \"**/*.html\")\n",
    "    all_posts_paths = [path for path in all_posts_paths]\n",
    "\n",
    "    with Pool() as p:\n",
    "        all_posts = list(tqdm(p.map(Post.from_path, all_posts_paths), total=len(all_posts_paths)))\n",
    "        return all_posts\n",
    "\n",
    "all_posts = get_all_posts_oscean()"
   ]
  },
  {
   "cell_type": "code",
   "execution_count": 3,
   "id": "47c42293-4202-4b80-8dd6-bc50e25b4a0c",
   "metadata": {},
   "outputs": [],
   "source": [
    "def custom_tokenizer(text: str) -> list[str]:\n",
    "    stemmer = SnowballStemmer(\"english\")\n",
    "    words = word_tokenize(text) \n",
    "    \n",
    "    return [stemmer.stem(word) for word in words]"
   ]
  },
  {
   "cell_type": "code",
   "execution_count": 15,
   "id": "a7920023-2ccb-4f39-b5dc-2b5d9992f794",
   "metadata": {},
   "outputs": [
    {
     "ename": "NameError",
     "evalue": "name 'vectorizer' is not defined",
     "output_type": "error",
     "traceback": [
      "\u001b[0;31m---------------------------------------------------------------------------\u001b[0m",
      "\u001b[0;31mNameError\u001b[0m                                 Traceback (most recent call last)",
      "Cell \u001b[0;32mIn[15], line 19\u001b[0m\n\u001b[1;32m     16\u001b[0m     closest_posts \u001b[38;5;241m=\u001b[39m \u001b[38;5;28msorted\u001b[39m(all_posts, key\u001b[38;5;241m=\u001b[39m\u001b[38;5;28;01mlambda\u001b[39;00m p: p\u001b[38;5;241m.\u001b[39mdistance_lsa(post))[:\u001b[38;5;241m5\u001b[39m]\n\u001b[1;32m     17\u001b[0m     \u001b[38;5;28;01mreturn\u001b[39;00m [\u001b[38;5;124mf\u001b[39m\u001b[38;5;124m\"\u001b[39m\u001b[38;5;132;01m{\u001b[39;00mpost\u001b[38;5;241m.\u001b[39mtitle\u001b[38;5;132;01m}\u001b[39;00m\u001b[38;5;124m\"\u001b[39m \u001b[38;5;28;01mfor\u001b[39;00m post \u001b[38;5;129;01min\u001b[39;00m closest_posts]\n\u001b[0;32m---> 19\u001b[0m \u001b[43mshow_related\u001b[49m\u001b[43m(\u001b[49m\u001b[38;5;124;43m\"\u001b[39;49m\u001b[38;5;124;43mdebugger\u001b[39;49m\u001b[38;5;124;43m\"\u001b[39;49m\u001b[43m)\u001b[49m\n",
      "Cell \u001b[0;32mIn[15], line 11\u001b[0m, in \u001b[0;36mshow_related\u001b[0;34m(query)\u001b[0m\n\u001b[1;32m      1\u001b[0m \u001b[38;5;28;01mdef\u001b[39;00m \u001b[38;5;21mshow_related\u001b[39m(query):\n\u001b[1;32m      2\u001b[0m     post \u001b[38;5;241m=\u001b[39m Post(\n\u001b[1;32m      3\u001b[0m         title\u001b[38;5;241m=\u001b[39m\u001b[38;5;124m\"\u001b[39m\u001b[38;5;124mtemporary_123123123\u001b[39m\u001b[38;5;124m\"\u001b[39m,\n\u001b[1;32m      4\u001b[0m         content\u001b[38;5;241m=\u001b[39mquery,\n\u001b[0;32m   (...)\u001b[0m\n\u001b[1;32m      8\u001b[0m         lsa_position\u001b[38;5;241m=\u001b[39m[],\n\u001b[1;32m      9\u001b[0m     )\n\u001b[0;32m---> 11\u001b[0m     post\u001b[38;5;241m.\u001b[39mtf_idf_position \u001b[38;5;241m=\u001b[39m \u001b[43mvectorizer\u001b[49m\u001b[38;5;241m.\u001b[39mtransform([post\u001b[38;5;241m.\u001b[39mcontent])\n\u001b[1;32m     13\u001b[0m     X_lsa \u001b[38;5;241m=\u001b[39m lsa\u001b[38;5;241m.\u001b[39mtransform(post\u001b[38;5;241m.\u001b[39mtf_idf_position)\n\u001b[1;32m     14\u001b[0m     post\u001b[38;5;241m.\u001b[39mlsa_position \u001b[38;5;241m=\u001b[39m X_lsa\n",
      "\u001b[0;31mNameError\u001b[0m: name 'vectorizer' is not defined"
     ]
    }
   ],
   "source": [
    "def show_related(query):\n",
    "    post = Post(\n",
    "        title=\"temporary_123123123\",\n",
    "        content=query,\n",
    "        path=\"\",\n",
    "        related_links=[],\n",
    "        tf_idf_position=[],\n",
    "        lsa_position=[],\n",
    "    )\n",
    "\n",
    "    post.tf_idf_position = vectorizer.transform([post.content])\n",
    "\n",
    "    X_lsa = lsa.transform(post.tf_idf_position)\n",
    "    post.lsa_position = X_lsa\n",
    "\n",
    "    closest_posts = sorted(all_posts, key=lambda p: p.distance_lsa(post))[:5]\n",
    "    return [f\"{post.title}\" for post in closest_posts]\n",
    "\n",
    "show_related(\"debugger\")"
   ]
  },
  {
   "cell_type": "code",
   "execution_count": 5,
   "id": "d946f546-9319-4ce3-8ca1-39750cef8f95",
   "metadata": {},
   "outputs": [],
   "source": [
    "from sklearn.decomposition import TruncatedSVD\n",
    "from sklearn.pipeline import make_pipeline\n",
    "from sklearn.preprocessing import Normalizer\n",
    "from itertools import count\n",
    "\n",
    "\n",
    "    "
   ]
  },
  {
   "cell_type": "code",
   "execution_count": 6,
   "id": "b1a01d7b-0d42-468b-a1f2-c9c48c54f909",
   "metadata": {},
   "outputs": [],
   "source": [
    "def get_hits_and_misses(n_components, distance_fun):\n",
    "    # Vectorizer to convert a collection of raw documents to a matrix of TF-IDF features\n",
    "    vectorizer = TfidfVectorizer(tokenizer=custom_tokenizer)\n",
    "\n",
    "    # Learn vocabulary and idf, return term-document matrix.\n",
    "    tfidf = vectorizer.fit_transform([post.content for post in all_posts])\n",
    "\n",
    "    umap_result = umap.UMAP().fit_transform(\n",
    "        tfidf\n",
    "    )\n",
    "\n",
    "    lsa = make_pipeline(TruncatedSVD(n_components=n_components), Normalizer(copy=False))\n",
    "    X_lsa = lsa.fit_transform(tfidf)\n",
    "    explained_variance = lsa[0].explained_variance_ratio_.sum()\n",
    "\n",
    "    # print(f\"LSA done in {time() - t0:.3f} s\")\n",
    "    print(f\"Explained variance of the SVD step: {explained_variance * 100:.1f}%\")\n",
    "\n",
    "\n",
    "    for post, post_position, post_index in zip(all_posts, umap_result, count()):\n",
    "        post.x = post_position[0]\n",
    "        post.y = post_position[1]\n",
    "        post.tf_idf_position = tfidf[post_index]\n",
    "        post.lsa_position = X_lsa [post_index]\n",
    "    \n",
    "    hits = 0\n",
    "    all_comparisons = 0\n",
    "\n",
    "    for post in all_posts:\n",
    "        posts_to_compare = [p for p in all_posts if p.title != post.title]\n",
    "        getattr(all_posts[0], \"distance_lsa\")(all_posts[1])\n",
    "        closest_posts = sorted(posts_to_compare, key=lambda p: getattr(p, distance_fun)(post))[:len(post.related_links)]\n",
    "        # closest_posts = sorted(posts_to_compare, key=lambda p: p.distance_lsa(post))[:len(post.related_links)]\n",
    "        closest_posts_titles = [post.title for post in closest_posts]\n",
    "\n",
    "        for related in post.related_links:\n",
    "            if related in closest_posts_titles:\n",
    "                hits += 1\n",
    "\n",
    "            all_comparisons += 1\n",
    "\n",
    "    misses = all_comparisons - hits\n",
    "    print(\"hits:     \", hits)\n",
    "    print(\"all:      \", all_comparisons)\n",
    "    # print(\"ratio:    \", hits/all_comparisons)\n",
    "    print(\"hit/miss: \", hits/misses)\n",
    "    \n",
    "    return hits/misses\n"
   ]
  },
  {
   "cell_type": "code",
   "execution_count": 18,
   "id": "f4163eeb-33d0-4ff2-a243-ff259ac4e592",
   "metadata": {},
   "outputs": [
    {
     "name": "stderr",
     "output_type": "stream",
     "text": [
      "/home/wint3rmute/code/web/Wint3rmute.github.io/.venv/lib/python3.10/site-packages/sklearn/feature_extraction/text.py:528: UserWarning: The parameter 'token_pattern' will not be used since 'tokenizer' is not None'\n",
      "  warnings.warn(\n"
     ]
    },
    {
     "name": "stdout",
     "output_type": "stream",
     "text": [
      "Explained variance of the SVD step: 3.7%\n",
      "hits:      140\n",
      "all:       5912\n",
      "hit/miss:  0.024255024255024255\n"
     ]
    },
    {
     "name": "stderr",
     "output_type": "stream",
     "text": [
      "/home/wint3rmute/code/web/Wint3rmute.github.io/.venv/lib/python3.10/site-packages/sklearn/feature_extraction/text.py:528: UserWarning: The parameter 'token_pattern' will not be used since 'tokenizer' is not None'\n",
      "  warnings.warn(\n"
     ]
    },
    {
     "name": "stdout",
     "output_type": "stream",
     "text": [
      "Explained variance of the SVD step: 3.7%\n",
      "hits:      140\n",
      "all:       5912\n",
      "hit/miss:  0.024255024255024255\n"
     ]
    },
    {
     "name": "stderr",
     "output_type": "stream",
     "text": [
      "/home/wint3rmute/code/web/Wint3rmute.github.io/.venv/lib/python3.10/site-packages/sklearn/feature_extraction/text.py:528: UserWarning: The parameter 'token_pattern' will not be used since 'tokenizer' is not None'\n",
      "  warnings.warn(\n"
     ]
    },
    {
     "name": "stdout",
     "output_type": "stream",
     "text": [
      "Explained variance of the SVD step: 3.7%\n",
      "hits:      116\n",
      "all:       5912\n",
      "hit/miss:  0.020013802622498276\n"
     ]
    },
    {
     "name": "stderr",
     "output_type": "stream",
     "text": [
      "/home/wint3rmute/code/web/Wint3rmute.github.io/.venv/lib/python3.10/site-packages/sklearn/feature_extraction/text.py:528: UserWarning: The parameter 'token_pattern' will not be used since 'tokenizer' is not None'\n",
      "  warnings.warn(\n"
     ]
    },
    {
     "name": "stdout",
     "output_type": "stream",
     "text": [
      "Explained variance of the SVD step: 11.7%\n",
      "hits:      551\n",
      "all:       5912\n",
      "hit/miss:  0.10277933221413915\n"
     ]
    },
    {
     "name": "stderr",
     "output_type": "stream",
     "text": [
      "/home/wint3rmute/code/web/Wint3rmute.github.io/.venv/lib/python3.10/site-packages/sklearn/feature_extraction/text.py:528: UserWarning: The parameter 'token_pattern' will not be used since 'tokenizer' is not None'\n",
      "  warnings.warn(\n"
     ]
    },
    {
     "name": "stdout",
     "output_type": "stream",
     "text": [
      "Explained variance of the SVD step: 11.7%\n",
      "hits:      123\n",
      "all:       5912\n",
      "hit/miss:  0.02124719295215063\n"
     ]
    },
    {
     "name": "stderr",
     "output_type": "stream",
     "text": [
      "/home/wint3rmute/code/web/Wint3rmute.github.io/.venv/lib/python3.10/site-packages/sklearn/feature_extraction/text.py:528: UserWarning: The parameter 'token_pattern' will not be used since 'tokenizer' is not None'\n",
      "  warnings.warn(\n"
     ]
    },
    {
     "name": "stdout",
     "output_type": "stream",
     "text": [
      "Explained variance of the SVD step: 11.7%\n",
      "hits:      116\n",
      "all:       5912\n",
      "hit/miss:  0.020013802622498276\n"
     ]
    },
    {
     "name": "stderr",
     "output_type": "stream",
     "text": [
      "/home/wint3rmute/code/web/Wint3rmute.github.io/.venv/lib/python3.10/site-packages/sklearn/feature_extraction/text.py:528: UserWarning: The parameter 'token_pattern' will not be used since 'tokenizer' is not None'\n",
      "  warnings.warn(\n"
     ]
    },
    {
     "name": "stdout",
     "output_type": "stream",
     "text": [
      "Explained variance of the SVD step: 17.3%\n",
      "hits:      711\n",
      "all:       5912\n",
      "hit/miss:  0.13670447990771006\n"
     ]
    },
    {
     "name": "stderr",
     "output_type": "stream",
     "text": [
      "/home/wint3rmute/code/web/Wint3rmute.github.io/.venv/lib/python3.10/site-packages/sklearn/feature_extraction/text.py:528: UserWarning: The parameter 'token_pattern' will not be used since 'tokenizer' is not None'\n",
      "  warnings.warn(\n"
     ]
    },
    {
     "name": "stdout",
     "output_type": "stream",
     "text": [
      "Explained variance of the SVD step: 17.3%\n",
      "hits:      89\n",
      "all:       5912\n",
      "hit/miss:  0.015284217757169843\n"
     ]
    },
    {
     "name": "stderr",
     "output_type": "stream",
     "text": [
      "/home/wint3rmute/code/web/Wint3rmute.github.io/.venv/lib/python3.10/site-packages/sklearn/feature_extraction/text.py:528: UserWarning: The parameter 'token_pattern' will not be used since 'tokenizer' is not None'\n",
      "  warnings.warn(\n"
     ]
    },
    {
     "name": "stdout",
     "output_type": "stream",
     "text": [
      "Explained variance of the SVD step: 17.3%\n",
      "hits:      116\n",
      "all:       5912\n",
      "hit/miss:  0.020013802622498276\n"
     ]
    },
    {
     "name": "stderr",
     "output_type": "stream",
     "text": [
      "/home/wint3rmute/code/web/Wint3rmute.github.io/.venv/lib/python3.10/site-packages/sklearn/feature_extraction/text.py:528: UserWarning: The parameter 'token_pattern' will not be used since 'tokenizer' is not None'\n",
      "  warnings.warn(\n"
     ]
    },
    {
     "name": "stdout",
     "output_type": "stream",
     "text": [
      "Explained variance of the SVD step: 21.2%\n",
      "hits:      779\n",
      "all:       5912\n",
      "hit/miss:  0.15176310150009742\n"
     ]
    },
    {
     "name": "stderr",
     "output_type": "stream",
     "text": [
      "/home/wint3rmute/code/web/Wint3rmute.github.io/.venv/lib/python3.10/site-packages/sklearn/feature_extraction/text.py:528: UserWarning: The parameter 'token_pattern' will not be used since 'tokenizer' is not None'\n",
      "  warnings.warn(\n"
     ]
    },
    {
     "name": "stdout",
     "output_type": "stream",
     "text": [
      "Explained variance of the SVD step: 21.2%\n",
      "hits:      115\n",
      "all:       5912\n",
      "hit/miss:  0.01983784716232534\n"
     ]
    },
    {
     "name": "stderr",
     "output_type": "stream",
     "text": [
      "/home/wint3rmute/code/web/Wint3rmute.github.io/.venv/lib/python3.10/site-packages/sklearn/feature_extraction/text.py:528: UserWarning: The parameter 'token_pattern' will not be used since 'tokenizer' is not None'\n",
      "  warnings.warn(\n"
     ]
    },
    {
     "name": "stdout",
     "output_type": "stream",
     "text": [
      "Explained variance of the SVD step: 21.2%\n",
      "hits:      116\n",
      "all:       5912\n",
      "hit/miss:  0.020013802622498276\n"
     ]
    },
    {
     "name": "stderr",
     "output_type": "stream",
     "text": [
      "/home/wint3rmute/code/web/Wint3rmute.github.io/.venv/lib/python3.10/site-packages/sklearn/feature_extraction/text.py:528: UserWarning: The parameter 'token_pattern' will not be used since 'tokenizer' is not None'\n",
      "  warnings.warn(\n"
     ]
    },
    {
     "name": "stdout",
     "output_type": "stream",
     "text": [
      "Explained variance of the SVD step: 57.7%\n",
      "hits:      942\n",
      "all:       5912\n",
      "hit/miss:  0.18953722334004025\n"
     ]
    },
    {
     "name": "stderr",
     "output_type": "stream",
     "text": [
      "/home/wint3rmute/code/web/Wint3rmute.github.io/.venv/lib/python3.10/site-packages/sklearn/feature_extraction/text.py:528: UserWarning: The parameter 'token_pattern' will not be used since 'tokenizer' is not None'\n",
      "  warnings.warn(\n"
     ]
    },
    {
     "name": "stdout",
     "output_type": "stream",
     "text": [
      "Explained variance of the SVD step: 57.7%\n",
      "hits:      146\n",
      "all:       5912\n",
      "hit/miss:  0.025320846340617414\n"
     ]
    },
    {
     "name": "stderr",
     "output_type": "stream",
     "text": [
      "/home/wint3rmute/code/web/Wint3rmute.github.io/.venv/lib/python3.10/site-packages/sklearn/feature_extraction/text.py:528: UserWarning: The parameter 'token_pattern' will not be used since 'tokenizer' is not None'\n",
      "  warnings.warn(\n"
     ]
    },
    {
     "name": "stdout",
     "output_type": "stream",
     "text": [
      "Explained variance of the SVD step: 57.7%\n",
      "hits:      116\n",
      "all:       5912\n",
      "hit/miss:  0.020013802622498276\n"
     ]
    },
    {
     "name": "stderr",
     "output_type": "stream",
     "text": [
      "/home/wint3rmute/code/web/Wint3rmute.github.io/.venv/lib/python3.10/site-packages/sklearn/feature_extraction/text.py:528: UserWarning: The parameter 'token_pattern' will not be used since 'tokenizer' is not None'\n",
      "  warnings.warn(\n"
     ]
    },
    {
     "name": "stdout",
     "output_type": "stream",
     "text": [
      "Explained variance of the SVD step: 79.7%\n",
      "hits:      914\n",
      "all:       5912\n",
      "hit/miss:  0.18287314925970388\n"
     ]
    },
    {
     "name": "stderr",
     "output_type": "stream",
     "text": [
      "/home/wint3rmute/code/web/Wint3rmute.github.io/.venv/lib/python3.10/site-packages/sklearn/feature_extraction/text.py:528: UserWarning: The parameter 'token_pattern' will not be used since 'tokenizer' is not None'\n",
      "  warnings.warn(\n"
     ]
    },
    {
     "name": "stdout",
     "output_type": "stream",
     "text": [
      "Explained variance of the SVD step: 79.7%\n",
      "hits:      198\n",
      "all:       5912\n",
      "hit/miss:  0.03465173258662933\n"
     ]
    },
    {
     "name": "stderr",
     "output_type": "stream",
     "text": [
      "/home/wint3rmute/code/web/Wint3rmute.github.io/.venv/lib/python3.10/site-packages/sklearn/feature_extraction/text.py:528: UserWarning: The parameter 'token_pattern' will not be used since 'tokenizer' is not None'\n",
      "  warnings.warn(\n"
     ]
    },
    {
     "name": "stdout",
     "output_type": "stream",
     "text": [
      "Explained variance of the SVD step: 79.7%\n",
      "hits:      116\n",
      "all:       5912\n",
      "hit/miss:  0.020013802622498276\n"
     ]
    },
    {
     "name": "stderr",
     "output_type": "stream",
     "text": [
      "/home/wint3rmute/code/web/Wint3rmute.github.io/.venv/lib/python3.10/site-packages/sklearn/feature_extraction/text.py:528: UserWarning: The parameter 'token_pattern' will not be used since 'tokenizer' is not None'\n",
      "  warnings.warn(\n"
     ]
    },
    {
     "name": "stdout",
     "output_type": "stream",
     "text": [
      "Explained variance of the SVD step: 93.7%\n",
      "hits:      849\n",
      "all:       5912\n",
      "hit/miss:  0.16768714201066562\n"
     ]
    },
    {
     "name": "stderr",
     "output_type": "stream",
     "text": [
      "/home/wint3rmute/code/web/Wint3rmute.github.io/.venv/lib/python3.10/site-packages/sklearn/feature_extraction/text.py:528: UserWarning: The parameter 'token_pattern' will not be used since 'tokenizer' is not None'\n",
      "  warnings.warn(\n"
     ]
    },
    {
     "name": "stdout",
     "output_type": "stream",
     "text": [
      "Explained variance of the SVD step: 93.7%\n",
      "hits:      188\n",
      "all:       5912\n",
      "hit/miss:  0.03284416491963662\n"
     ]
    },
    {
     "name": "stderr",
     "output_type": "stream",
     "text": [
      "/home/wint3rmute/code/web/Wint3rmute.github.io/.venv/lib/python3.10/site-packages/sklearn/feature_extraction/text.py:528: UserWarning: The parameter 'token_pattern' will not be used since 'tokenizer' is not None'\n",
      "  warnings.warn(\n"
     ]
    },
    {
     "name": "stdout",
     "output_type": "stream",
     "text": [
      "Explained variance of the SVD step: 93.7%\n",
      "hits:      116\n",
      "all:       5912\n",
      "hit/miss:  0.020013802622498276\n"
     ]
    },
    {
     "name": "stderr",
     "output_type": "stream",
     "text": [
      "/home/wint3rmute/code/web/Wint3rmute.github.io/.venv/lib/python3.10/site-packages/sklearn/feature_extraction/text.py:528: UserWarning: The parameter 'token_pattern' will not be used since 'tokenizer' is not None'\n",
      "  warnings.warn(\n"
     ]
    },
    {
     "name": "stdout",
     "output_type": "stream",
     "text": [
      "Explained variance of the SVD step: 100.0%\n",
      "hits:      847\n",
      "all:       5912\n",
      "hit/miss:  0.16722606120434352\n"
     ]
    },
    {
     "name": "stderr",
     "output_type": "stream",
     "text": [
      "/home/wint3rmute/code/web/Wint3rmute.github.io/.venv/lib/python3.10/site-packages/sklearn/feature_extraction/text.py:528: UserWarning: The parameter 'token_pattern' will not be used since 'tokenizer' is not None'\n",
      "  warnings.warn(\n"
     ]
    },
    {
     "name": "stdout",
     "output_type": "stream",
     "text": [
      "Explained variance of the SVD step: 100.0%\n",
      "hits:      138\n",
      "all:       5912\n",
      "hit/miss:  0.02390024246622792\n"
     ]
    },
    {
     "name": "stderr",
     "output_type": "stream",
     "text": [
      "/home/wint3rmute/code/web/Wint3rmute.github.io/.venv/lib/python3.10/site-packages/sklearn/feature_extraction/text.py:528: UserWarning: The parameter 'token_pattern' will not be used since 'tokenizer' is not None'\n",
      "  warnings.warn(\n"
     ]
    },
    {
     "name": "stdout",
     "output_type": "stream",
     "text": [
      "Explained variance of the SVD step: 100.0%\n",
      "hits:      116\n",
      "all:       5912\n",
      "hit/miss:  0.020013802622498276\n"
     ]
    },
    {
     "name": "stderr",
     "output_type": "stream",
     "text": [
      "/home/wint3rmute/code/web/Wint3rmute.github.io/.venv/lib/python3.10/site-packages/sklearn/feature_extraction/text.py:528: UserWarning: The parameter 'token_pattern' will not be used since 'tokenizer' is not None'\n",
      "  warnings.warn(\n"
     ]
    },
    {
     "name": "stdout",
     "output_type": "stream",
     "text": [
      "Explained variance of the SVD step: 100.0%\n",
      "hits:      849\n",
      "all:       5912\n",
      "hit/miss:  0.16768714201066562\n"
     ]
    },
    {
     "name": "stderr",
     "output_type": "stream",
     "text": [
      "/home/wint3rmute/code/web/Wint3rmute.github.io/.venv/lib/python3.10/site-packages/sklearn/feature_extraction/text.py:528: UserWarning: The parameter 'token_pattern' will not be used since 'tokenizer' is not None'\n",
      "  warnings.warn(\n"
     ]
    },
    {
     "name": "stdout",
     "output_type": "stream",
     "text": [
      "Explained variance of the SVD step: 100.0%\n",
      "hits:      214\n",
      "all:       5912\n",
      "hit/miss:  0.037557037557037556\n"
     ]
    },
    {
     "name": "stderr",
     "output_type": "stream",
     "text": [
      "/home/wint3rmute/code/web/Wint3rmute.github.io/.venv/lib/python3.10/site-packages/sklearn/feature_extraction/text.py:528: UserWarning: The parameter 'token_pattern' will not be used since 'tokenizer' is not None'\n",
      "  warnings.warn(\n"
     ]
    },
    {
     "name": "stdout",
     "output_type": "stream",
     "text": [
      "Explained variance of the SVD step: 100.0%\n",
      "hits:      116\n",
      "all:       5912\n",
      "hit/miss:  0.020013802622498276\n"
     ]
    },
    {
     "data": {
      "text/plain": [
       "[[0.024255024255024255, 0.024255024255024255, 0.020013802622498276],\n",
       " [0.10277933221413915, 0.02124719295215063, 0.020013802622498276],\n",
       " [0.13670447990771006, 0.015284217757169843, 0.020013802622498276],\n",
       " [0.15176310150009742, 0.01983784716232534, 0.020013802622498276],\n",
       " [0.18953722334004025, 0.025320846340617414, 0.020013802622498276],\n",
       " [0.18287314925970388, 0.03465173258662933, 0.020013802622498276],\n",
       " [0.16768714201066562, 0.03284416491963662, 0.020013802622498276],\n",
       " [0.16722606120434352, 0.02390024246622792, 0.020013802622498276],\n",
       " [0.16768714201066562, 0.037557037557037556, 0.020013802622498276]]"
      ]
     },
     "execution_count": 18,
     "metadata": {},
     "output_type": "execute_result"
    }
   ],
   "source": [
    "result = []\n",
    "num_components_values = [1, 5, 10, 15, 100, 200, 300, 500 , 600]\n",
    "\n",
    "for num_components in num_components_values:\n",
    "    for distance_fun in [\"distance_lsa\"]:\n",
    "        result.append([\n",
    "            get_hits_and_misses(num_components, \"distance_lsa\"),\n",
    "            get_hits_and_misses(num_components, \"distance_lsa_cosine\"),\n",
    "            get_hits_and_misses(num_components, \"distance_tf_idf_cosine\"),\n",
    "        ])\n",
    "\n",
    "result"
   ]
  },
  {
   "cell_type": "code",
   "execution_count": 26,
   "id": "fe4b1028-02c2-44af-a660-b62df4c6f637",
   "metadata": {},
   "outputs": [
    {
     "data": {
      "application/vnd.jupyter.widget-view+json": {
       "model_id": "4b0feffcb4874d33880185c6f1a4ca06",
       "version_major": 2,
       "version_minor": 0
      },
      "image/png": "[encoded data removed]",
      "text/html": [
       "\n",
       "            <div style=\"display: inline-block;\">\n",
       "                <div class=\"jupyter-widgets widget-label\" style=\"text-align: center;\">\n",
       "                    Figure\n",
       "                </div>\n",
       "                <img src='data:image/png;base64,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' width=640.0/>\n",
       "            </div>\n",
       "        "
      ],
      "text/plain": [
       "Canvas(toolbar=Toolbar(toolitems=[('Home', 'Reset original view', 'home', 'home'), ('Back', 'Back to previous …"
      ]
     },
     "metadata": {},
     "output_type": "display_data"
    }
   ],
   "source": [
    "plt.close()\n",
    "plt.plot(num_components_values, result, label=\"Euclidean LSA\")\n",
    "plt.plot(num_components_values, result, label=\"Cosine similiarity LSA\")\n",
    "plt.plot(num_components_values, result, label=\"Cosine similiarity TF-IDF\")\n",
    "plt.legend()\n",
    "plt.xlabel(\"n_components\")\n",
    "plt.ylabel(\"Accuracy score [%]\")\n",
    "plt.show()"
   ]
  },
  {
   "cell_type": "code",
   "execution_count": 9,
   "id": "2fe06899-f773-4c4b-9bdb-a2c81d1378fd",
   "metadata": {},
   "outputs": [
    {
     "ename": "NameError",
     "evalue": "name 'umap_result' is not defined",
     "output_type": "error",
     "traceback": [
      "\u001b[0;31m---------------------------------------------------------------------------\u001b[0m",
      "\u001b[0;31mNameError\u001b[0m                                 Traceback (most recent call last)",
      "Cell \u001b[0;32mIn[9], line 5\u001b[0m\n\u001b[1;32m      3\u001b[0m \u001b[38;5;28;01mfrom\u001b[39;00m \u001b[38;5;21;01mitertools\u001b[39;00m \u001b[38;5;28;01mimport\u001b[39;00m count\n\u001b[1;32m      4\u001b[0m \u001b[38;5;28;01mimport\u001b[39;00m \u001b[38;5;21;01mrandom\u001b[39;00m\n\u001b[0;32m----> 5\u001b[0m \u001b[38;5;28;01mfor\u001b[39;00m post, post_position, post_index \u001b[38;5;129;01min\u001b[39;00m \u001b[38;5;28mzip\u001b[39m(all_posts, \u001b[43mumap_result\u001b[49m, count()):\n\u001b[1;32m      6\u001b[0m     plt\u001b[38;5;241m.\u001b[39mscatter(post_position[\u001b[38;5;241m0\u001b[39m], post_position[\u001b[38;5;241m1\u001b[39m])\n\u001b[1;32m      8\u001b[0m     plt\u001b[38;5;241m.\u001b[39mannotate(post\u001b[38;5;241m.\u001b[39mtitle, post_position, post_position)\n",
      "\u001b[0;31mNameError\u001b[0m: name 'umap_result' is not defined"
     ]
    }
   ],
   "source": [
    "plt.close()\n",
    "\n",
    "from itertools import count\n",
    "import random\n",
    "for post, post_position, post_index in zip(all_posts, umap_result, count()):\n",
    "    plt.scatter(post_position[0], post_position[1])\n",
    "    \n",
    "    plt.annotate(post.title, post_position, post_position)\n",
    "\n",
    "plt.show()"
   ]
  },
  {
   "cell_type": "code",
   "execution_count": null,
   "id": "fbf039f7-3edb-41f4-b80c-32b582152c47",
   "metadata": {},
   "outputs": [],
   "source": []
  },
  {
   "cell_type": "code",
   "execution_count": null,
   "id": "d33e71b6-f8c5-44d3-be1a-6c4f15e9fa29",
   "metadata": {},
   "outputs": [],
   "source": []
  }
 ],
 "metadata": {
  "kernelspec": {
   "display_name": "Python 3 (ipykernel)",
   "language": "python",
   "name": "python3"
  },
  "language_info": {
   "codemirror_mode": {
    "name": "ipython",
    "version": 3
   },
   "file_extension": ".py",
   "mimetype": "text/x-python",
   "name": "python",
   "nbconvert_exporter": "python",
   "pygments_lexer": "ipython3",
   "version": "3.10.8"
  }
 },
 "nbformat": 4,
 "nbformat_minor": 5
}
