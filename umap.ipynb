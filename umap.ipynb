{
 "cells": [
  {
   "cell_type": "code",
   "execution_count": 1,
   "id": "c79053c0-279d-4d0d-8257-db5bc6f9881a",
   "metadata": {
    "tags": []
   },
   "outputs": [],
   "source": [
    "from related_generator.post import Post, get_all_posts\n",
    "import nltk\n",
    "import umap\n",
    "from nltk.stem.snowball import SnowballStemmer\n",
    "from nltk.tokenize import word_tokenize\n",
    "from sklearn.feature_extraction.text import TfidfVectorizer\n",
    "from sklearn.manifold import TSNE\n",
    "from sklearn.metrics.pairwise import cosine_similarity\n",
    "from pathlib import Path\n",
    "import graphviz\n",
    "import json\n",
    "\n",
    "from bs4 import BeautifulSoup\n"
   ]
  },
  {
   "cell_type": "code",
   "execution_count": 2,
   "id": "f02f5496-f6d1-4667-9f36-0032ac897679",
   "metadata": {
    "tags": []
   },
   "outputs": [
    {
     "name": "stderr",
     "output_type": "stream",
     "text": [
      "/home/wint3rmute/code/misc/baczek.me/related_generator/post.py:46: UserWarning: No tags defined for content/should_listen.md\n",
      "  warnings.warn(f\"No tags defined for {file_path}\")\n"
     ]
    }
   ],
   "source": [
    "all_posts = get_all_posts()"
   ]
  },
  {
   "cell_type": "code",
   "execution_count": 3,
   "id": "f79e8e9a-45e4-4e33-8941-098e92835f2c",
   "metadata": {
    "tags": []
   },
   "outputs": [],
   "source": [
    "def tokenizer(text: str) -> list[str]:\n",
    "    stemmer = SnowballStemmer(\"english\")\n",
    "    words = word_tokenize(text)\n",
    "\n",
    "    return [stemmer.stem(word) for word in words]"
   ]
  },
  {
   "cell_type": "code",
   "execution_count": 4,
   "id": "72663562-42ea-4ef0-b590-dcc311606d49",
   "metadata": {},
   "outputs": [],
   "source": [
    "for post in all_posts:\n",
    "    html_path = (Path(\"./public\") / post.path.stem) / \"index.html\"\n",
    "    html_path = str(html_path).replace(\"_\", \"-\")\n",
    "    html_content = open(html_path).read()\n",
    "    \n",
    "    html_tree = BeautifulSoup(html_content, features=\"html.parser\")\n",
    "    content = html_tree.article.text.replace(\"\\n\", \" \")\n",
    "    post._old_content = post.content\n",
    "    post.content = content\n"
   ]
  },
  {
   "cell_type": "code",
   "execution_count": 5,
   "id": "f5f0a7e5-4d1d-4612-b5d3-8bcd13e3aead",
   "metadata": {},
   "outputs": [
    {
     "data": {
      "text/plain": [
       "\"  The word *Bączek* in Polish  My last name, Bączek, has multiple meanings. Here I've collected my favourites:  Spinning top (the toy that spins) Spins, barrel rolls and other similar aerial maneuvers (in Polish we call that kręcić bączki, which roughly translates to spin a bączek) Fart (which leads to many funny/cringey) situations as people often call me by my surname rather than my name  And the winner goes to:  A diminutive form of the word Bąk (Bumblebee)  Here's a collection of hand-picked Bączek pictures, following this interpretation:   Rabbit bumblebee from @Łukasz    Pug bumblebee from @Amanda. The pug is a rolling joke at SatRev, but that's a story for another time :)    Another one from @Amanda    A drawing done by me or some of my friends long time ago, backed up by @Maja (thanks a lot!)    This monstrosity, from @Olek    Christmas Bączek, thank you @Roksana!   \""
      ]
     },
     "execution_count": 5,
     "metadata": {},
     "output_type": "execute_result"
    }
   ],
   "source": [
    "all_posts[1].content"
   ]
  },
  {
   "cell_type": "code",
   "execution_count": 9,
   "id": "46a52500-eff7-4f9a-858b-0dd8abcdf3b9",
   "metadata": {
    "tags": []
   },
   "outputs": [
    {
     "name": "stderr",
     "output_type": "stream",
     "text": [
      "/home/wint3rmute/code/misc/baczek.me/.venv/lib/python3.10/site-packages/sklearn/feature_extraction/text.py:528: UserWarning: The parameter 'token_pattern' will not be used since 'tokenizer' is not None'\n",
      "  warnings.warn(\n"
     ]
    },
    {
     "name": "stdout",
     "output_type": "stream",
     "text": [
      "Generating related posts...\n",
      "Done!\n"
     ]
    }
   ],
   "source": [
    "\n",
    "# Vectorizer to convert a collection of raw documents to a matrix of TF-IDF features\n",
    "vectorizer = TfidfVectorizer(tokenizer=tokenizer)\n",
    "# vectorizer = TfidfVectorizer()\n",
    "\n",
    "# Learn vocabulary and idf, return term-document matrix.\n",
    "tfidf = vectorizer.fit_transform([post.content for post in all_posts])\n",
    "\n",
    "# Array mapping from feature integer indices to feature name\n",
    "words = vectorizer.get_feature_names_out()\n",
    "\n",
    "umap_result = umap.UMAP().fit_transform(tfidf)\n",
    "\n",
    "for post, umap_result in zip(all_posts, umap_result):\n",
    "    post.x, post.y = umap_result\n",
    "\n",
    "print(\"Generating related posts...\")\n",
    "for post_index, post in enumerate(all_posts):\n",
    "    # We can check that using a new document text\n",
    "    requested_index = post_index\n",
    "\n",
    "    related_posts = sorted(\n",
    "        all_posts, key=lambda post_to_sort: post_to_sort.distance_to(post)\n",
    "    )\n",
    "\n",
    "    related_product_indices = []\n",
    "    for related_post in related_posts:\n",
    "        for post_index, post_ in enumerate(all_posts):\n",
    "            if related_post.title == post_.title:\n",
    "                related_product_indices.append(post_index)\n",
    "\n",
    "    related_product_indices = [\n",
    "        i for i in related_product_indices if i != requested_index\n",
    "    ]\n",
    "\n",
    "    post.related_post_ids = related_product_indices[:3]\n",
    "\n",
    "for post in all_posts:\n",
    "    for post_id in post.related_post_ids:\n",
    "        all_posts[post_id].posts_linking_to_this += 1\n",
    "\n",
    "max_num_of_links = max(post.posts_linking_to_this for post in all_posts)\n",
    "\n",
    "for post in all_posts:\n",
    "    post.posts_linking_to_this /= max_num_of_links\n",
    "\n",
    "relations_graph = graphviz.Graph(\n",
    "    comment=\"All Relations\",\n",
    "    graph_attr={\"bgcolor\": \"transparent\", \"overlap\": \"false\"},\n",
    "    format=\"svg\",\n",
    "    node_attr={\"shape\": \"box\"},\n",
    "    engine=\"neato\",\n",
    ")\n",
    "\n",
    "for post in all_posts:\n",
    "    # transparency = f\"{int(255 * post.posts_linking_to_this):02x}\"\n",
    "    color = \"#ffffff\"\n",
    "    color += transparency\n",
    "\n",
    "    relations_graph.node(\n",
    "        post.title,\n",
    "        color=color,\n",
    "        fontcolor=\"white\",\n",
    "        xlabel=\"🆕\" if post.recently_modified else \"\",\n",
    "        URL=\"/\" + post.path.with_suffix(\"\").name,\n",
    "    )\n",
    "\n",
    "linked_with = {post.path: [] for post in all_posts}\n",
    "\n",
    "for post in all_posts:\n",
    "    related_posts_json_path = Path(\"./generated\") / post.path.relative_to(\n",
    "        \"content\"\n",
    "    ).with_suffix(\".json\")\n",
    "    related_posts_json_path.parent.mkdir(parents=True, exist_ok=True)\n",
    "\n",
    "    related_posts_json = []\n",
    "\n",
    "\n",
    "    for post_id in post.related_post_ids:\n",
    "        related_post = all_posts[post_id]\n",
    "\n",
    "        if (\n",
    "            related_post.path not in linked_with[post.path]\n",
    "            and post.path not in linked_with[related_post.path]\n",
    "        ):\n",
    "            relations_graph.edge(post.title, related_post.title, color=\"white\")\n",
    "            linked_with[post.path].append(related_post.path)\n",
    "            linked_with[related_post.path].append(post.path)\n",
    "\n",
    "        post_link = \"/\" + str(\n",
    "            related_post.path.relative_to(\"content\").parent\n",
    "            / related_post.path.relative_to(\"content\").stem\n",
    "        )\n",
    "\n",
    "        related_posts_json.append({\"title\": related_post.title, \"url\": post_link})\n",
    "\n",
    "    with open(related_posts_json_path, \"w\", encoding=\"utf-8\") as relations_file:\n",
    "        json.dump({\"posts\": related_posts_json}, relations_file)\n",
    "\n",
    "# Note: it actually renders to connections.svg\n",
    "relations_graph.render(\"./generated/connections\")\n",
    "print(\"Done!\")"
   ]
  },
  {
   "cell_type": "code",
   "execution_count": null,
   "id": "e531c2ca-d985-4c3a-8390-afa68f9f1df9",
   "metadata": {
    "tags": []
   },
   "outputs": [],
   "source": []
  }
 ],
 "metadata": {
  "kernelspec": {
   "display_name": "Python 3 (ipykernel)",
   "language": "python",
   "name": "python3"
  },
  "language_info": {
   "codemirror_mode": {
    "name": "ipython",
    "version": 3
   },
   "file_extension": ".py",
   "mimetype": "text/x-python",
   "name": "python",
   "nbconvert_exporter": "python",
   "pygments_lexer": "ipython3",
   "version": "3.10.10"
  }
 },
 "nbformat": 4,
 "nbformat_minor": 5
}
